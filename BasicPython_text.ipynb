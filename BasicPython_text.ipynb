{
  "nbformat": 4,
  "nbformat_minor": 0,
  "metadata": {
    "colab": {
      "name": "BasicPython_text.ipynb",
      "provenance": [],
      "toc_visible": true
    },
    "kernelspec": {
      "name": "python3",
      "display_name": "Python 3"
    },
    "language_info": {
      "name": "python"
    }
  },
  "cells": [
    {
      "cell_type": "markdown",
      "source": [
        "#Basic Python EP.การทำงานเพื่อแสดงผลข้อความ\n",
        "\n",
        "ตัวอย่างที่ 1 การใช้คำสั่ง print ซึ่งกำกับด้วย Single quote หรือ Double quote"
      ],
      "metadata": {
        "id": "4YyGrq_iI4qu"
      }
    },
    {
      "cell_type": "code",
      "execution_count": 3,
      "metadata": {
        "colab": {
          "base_uri": "https://localhost:8080/"
        },
        "id": "peb2uKxkIRPJ",
        "outputId": "e8aacfbe-2fd2-4ab7-952d-b5cea8b7a729"
      },
      "outputs": [
        {
          "output_type": "stream",
          "name": "stdout",
          "text": [
            "Hello\n",
            "Hello\n"
          ]
        }
      ],
      "source": [
        "print(\"Hello\")\n",
        "print('Hello')"
      ]
    },
    {
      "cell_type": "markdown",
      "source": [
        "ตัวอย่างที่ 2 แสดงข้อความจากตัวแปร  "
      ],
      "metadata": {
        "id": "RTI62g3RJt9B"
      }
    },
    {
      "cell_type": "code",
      "source": [
        "text = \"Basic python\" #text มีชนิดข้อมูล เป็น String \n",
        "text2 = \"This is the EP1.\"\n",
        "print(\"Message \",text,text2)\n",
        "print(\"Message is \",text,\" example \",text2)\n",
        "print(\"First message is \",text, \"\\n Second message is \", text2)\n",
        "\n"
      ],
      "metadata": {
        "id": "ysmwVQu9JyTY"
      },
      "execution_count": null,
      "outputs": []
    },
    {
      "cell_type": "markdown",
      "source": [
        "ตัวอย่างที่ 3 การแสดงข้อความที่มีสัญลักษณ์พิเศษ (เช่น \" , ', #, @)"
      ],
      "metadata": {
        "id": "HEYRF3FzLQIc"
      }
    },
    {
      "cell_type": "code",
      "source": [
        "print(\"The message has double quote \\\"\\\" \")"
      ],
      "metadata": {
        "colab": {
          "base_uri": "https://localhost:8080/"
        },
        "id": "pWAp4eqsLe_J",
        "outputId": "01eed27f-cbbc-46d4-de29-4f3c2ba39afe"
      },
      "execution_count": 10,
      "outputs": [
        {
          "output_type": "stream",
          "name": "stdout",
          "text": [
            "The message has double quote \"\" \n"
          ]
        }
      ]
    },
    {
      "cell_type": "code",
      "source": [
        "print('The message has double quote \\'\\' ')"
      ],
      "metadata": {
        "colab": {
          "base_uri": "https://localhost:8080/"
        },
        "id": "jVTqRgXKL4Bk",
        "outputId": "3eea9f67-9148-4adf-e508-c4b25dc37598"
      },
      "execution_count": 13,
      "outputs": [
        {
          "output_type": "stream",
          "name": "stdout",
          "text": [
            "The message has double quote '' \n"
          ]
        }
      ]
    },
    {
      "cell_type": "code",
      "source": [
        "print(\"Copyright @2022 \")\n",
        "print('Copyright @2022 ')\n"
      ],
      "metadata": {
        "colab": {
          "base_uri": "https://localhost:8080/"
        },
        "id": "oLVj6KP_MNmj",
        "outputId": "8f64a437-a6fe-4f4e-a8e0-61cf98ba6313"
      },
      "execution_count": 15,
      "outputs": [
        {
          "output_type": "stream",
          "name": "stdout",
          "text": [
            "Copyright @2022 \n",
            "Copyright @2022 \n"
          ]
        }
      ]
    },
    {
      "cell_type": "markdown",
      "source": [
        "# New Section"
      ],
      "metadata": {
        "id": "-JPS-baWd5se"
      }
    }
  ]
}